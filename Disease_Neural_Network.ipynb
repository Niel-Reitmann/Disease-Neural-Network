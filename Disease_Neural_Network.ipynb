{
  "nbformat": 4,
  "nbformat_minor": 0,
  "metadata": {
    "colab": {
      "provenance": [],
      "authorship_tag": "ABX9TyMTyN4G5W8SBhZEPTuq5HVd",
      "include_colab_link": true
    },
    "kernelspec": {
      "name": "python3",
      "display_name": "Python 3"
    }
  },
  "cells": [
    {
      "cell_type": "markdown",
      "metadata": {
        "id": "view-in-github",
        "colab_type": "text"
      },
      "source": [
        "<a href=\"https://colab.research.google.com/github/Niel-Reitmann/Disease-Neural-Network/blob/main/Disease_Neural_Network.ipynb\" target=\"_parent\"><img src=\"https://colab.research.google.com/assets/colab-badge.svg\" alt=\"Open In Colab\"/></a>"
      ]
    },
    {
      "cell_type": "code",
      "metadata": {
        "id": "ddIEsDvULwgg"
      },
      "source": [
        "from google.colab import drive\n",
        "drive.mount('/gdrive')"
      ],
      "execution_count": null,
      "outputs": []
    },
    {
      "cell_type": "code",
      "metadata": {
        "id": "VWP7UrF7QOhm"
      },
      "source": [
        "from csv import reader\n",
        "import numpy as np\n",
        "import random\n",
        "from operator import itemgetter\n",
        "from matplotlib import pyplot as plt"
      ],
      "execution_count": null,
      "outputs": []
    },
    {
      "cell_type": "code",
      "metadata": {
        "id": "WPzcaSxoQVxy"
      },
      "source": [
        "data = open (\"/gdrive/My Drive/COVID-19-geographic-disbtribution-worldwide-2020-04-14 (2).csv\")\n",
        "data = list(reader(data, delimiter=','))\n",
        "print (data)"
      ],
      "execution_count": null,
      "outputs": []
    },
    {
      "cell_type": "code",
      "metadata": {
        "id": "_zkTFfRCGPvu"
      },
      "source": [
        "#0, 3, 7, 8, 9\n",
        "for row in data:\n",
        "  del row[8]\n",
        "  del row[7]\n",
        "  del row[3]\n",
        "  del row[0]\n"
      ],
      "execution_count": null,
      "outputs": []
    },
    {
      "cell_type": "code",
      "metadata": {
        "id": "LQnfCbbZH88m"
      },
      "source": [
        "data = data[1:]"
      ],
      "execution_count": null,
      "outputs": []
    },
    {
      "cell_type": "code",
      "metadata": {
        "id": "haooMcLiG8Oc"
      },
      "source": [
        "countries =[]\n",
        "ndata= []\n",
        "for row in data:\n",
        "  a = row[:4]\n",
        "  a.append(row[5])\n",
        "  if row[4] in countries:\n",
        "    ndata[countries.index(row[4])].append(a)\n",
        "  else:\n",
        "    countries.append(row[4])\n",
        "    ndata.append([a])\n",
        "\n",
        "print(ndata)\n",
        "\n"
      ],
      "execution_count": null,
      "outputs": []
    },
    {
      "cell_type": "code",
      "metadata": {
        "id": "n-Qra3lJLCRM"
      },
      "source": [
        "how_much_data = []\n",
        "for i in range(len(ndata)):\n",
        "  how_much_data.append(len(ndata[i]))\n",
        "\n",
        "plt.plot(sorted(how_much_data))\n",
        "plt.show()"
      ],
      "execution_count": null,
      "outputs": []
    },
    {
      "cell_type": "code",
      "metadata": {
        "id": "8A3-3SVFNEH6"
      },
      "source": [
        "if i in range (len(ndata)-1, -1, -1):\n",
        "  if len(ndata[i]) < 80:\n",
        "    del ndata[i]\n",
        "    del countries [i]\n",
        "\n",
        "print(len(ndata))"
      ],
      "execution_count": null,
      "outputs": []
    },
    {
      "cell_type": "code",
      "metadata": {
        "id": "8199detlOgXT"
      },
      "source": [
        "def add(a):\n",
        "  l = a.copy()\n",
        "  for i in range(len(l)):\n",
        "    if i != 0:\n",
        "      l[i]=l[i]+l[i-1]\n",
        "  return l\n"
      ],
      "execution_count": null,
      "outputs": []
    },
    {
      "cell_type": "code",
      "metadata": {
        "id": "9jMIbRg-PJ1R"
      },
      "source": [
        "def extract(country, column) :\n",
        "  l =[]\n",
        "  for i in country:\n",
        "    l.append(int(i[column]))\n",
        "  return l"
      ],
      "execution_count": null,
      "outputs": []
    },
    {
      "cell_type": "code",
      "metadata": {
        "id": "qHtD49YXP8PK"
      },
      "source": [
        "#Month between 1 and 12\n",
        "#Day is between 1 and 31\n",
        "#m*100+d\n",
        "#Delete 1231 (dec 31st)\n",
        "\n",
        "for country in ndata:\n",
        "  for day in country:\n",
        "    day.append(int(day[1])*100+int(day[0]))\n",
        "    if day[-1] == 1231:\n",
        "      del day\n",
        "\n",
        "\n",
        "\n"
      ],
      "execution_count": null,
      "outputs": []
    },
    {
      "cell_type": "code",
      "metadata": {
        "id": "fgrVEJ_QSEKb"
      },
      "source": [
        "for country in ndata:\n",
        "  country.sort(key=itemgetter(5))\n"
      ],
      "execution_count": null,
      "outputs": []
    },
    {
      "cell_type": "code",
      "metadata": {
        "id": "1cYEmoGDSkNO"
      },
      "source": [
        "mincase = 10000\n",
        "sifted=[]\n",
        "names=[]\n",
        "for i in range(len(countries)):\n",
        "  if max(add(extract(ndata[i], 2))) > mincase:\n",
        "    names.append(countries[i])\n",
        "    sifted.append(ndata[i])\n",
        "\n",
        "print(names)\n",
        "print(len(names))"
      ],
      "execution_count": null,
      "outputs": []
    },
    {
      "cell_type": "code",
      "metadata": {
        "id": "1D6Tfrg-Ujqf"
      },
      "source": [
        "for i in range(len(names)):\n",
        "  print(names[i])\n",
        "  plt.clf()\n",
        "  plt.plot(extract(sifted[i], 2))\n",
        "  plt.plot(add(extract(sifted[i], 3)))\n",
        "  plt.show()"
      ],
      "execution_count": null,
      "outputs": []
    },
    {
      "cell_type": "code",
      "metadata": {
        "id": "QzdFCT3hWat_"
      },
      "source": [
        "korea = sifted[names.index(\"South_Korea\")]\n",
        "china = sifted[names.index(\"China\")]\n",
        "Australia = ndata[countries.index(\"Australia\")]"
      ],
      "execution_count": null,
      "outputs": []
    },
    {
      "cell_type": "code",
      "metadata": {
        "id": "61UC59S8W034"
      },
      "source": [
        "ycc = []\n",
        "ycd = []\n",
        "ykc = []\n",
        "ykd = []\n",
        "yac = []\n",
        "yad = []\n",
        "for i in range(len(china)):\n",
        "  ycc.append(int(china[i][2])/int(china[i][4])*30000)\n",
        "  ycd.append(int(china[i][3])/int(china[i][4])*3000000)\n",
        "  ykc.append(int(korea[i][2])/int(korea[i][4])*30000)\n",
        "  ykd.append(int(korea[i][3])/int(korea[i][4])*3000000)\n",
        "  yac.append(int(Australia[i][2])/int(Australia[i][4])*30000)\n",
        "  yad.append(int(Australia[i][3])/int(Australia[i][4])*3000000)"
      ],
      "execution_count": null,
      "outputs": []
    },
    {
      "cell_type": "code",
      "metadata": {
        "id": "1v-y9CDoX4CQ"
      },
      "source": [
        "ycc = ycc[20:70]\n",
        "ycd = ycd[20:70]\n",
        "plt.plot(ycc)\n",
        "plt.show()\n",
        "\n"
      ],
      "execution_count": null,
      "outputs": []
    },
    {
      "cell_type": "code",
      "metadata": {
        "id": "W55qu9L1Y70f"
      },
      "source": [
        "yac = yac[70:]\n",
        "yad = yad[70:]\n",
        "plt.plot(yac)\n",
        "plt.plot(yad)\n",
        "plt.show()\n"
      ],
      "execution_count": null,
      "outputs": []
    },
    {
      "cell_type": "code",
      "metadata": {
        "id": "jcp0L5r1ZODW"
      },
      "source": [
        "ykc = ykc[45:]\n",
        "ykd = ykd[45:]\n",
        "plt.plot(ykc)\n",
        "plt.show()"
      ],
      "execution_count": null,
      "outputs": []
    },
    {
      "cell_type": "code",
      "metadata": {
        "id": "99YxMR0SPEED"
      },
      "source": [
        "def dataset(cases, deaths, population, num):\n",
        "  xnew = []\n",
        "  ynew = []\n",
        "  for i in range(len(cases)-num):\n",
        "    temp = []\n",
        "    for a in range(num):\n",
        "      temp.append(cases[i+a])\n",
        "      temp.append(deaths[i+a])\n",
        "    temp.append(int(population)/200000000)\n",
        "    xnew.append(temp)\n",
        "    ynew.append([cases[i+num], deaths[i+num]])\n",
        "\n",
        "  return xnew, ynew"
      ],
      "execution_count": null,
      "outputs": []
    },
    {
      "cell_type": "code",
      "metadata": {
        "id": "NPZQs9geQkx2"
      },
      "source": [
        "dataset(yac, yad, int(Australia[0][4]), 13)[0]"
      ],
      "execution_count": null,
      "outputs": []
    },
    {
      "cell_type": "code",
      "metadata": {
        "id": "k59HxVUOV1FC"
      },
      "source": [
        "def data():\n",
        "  xc, yc = dataset(ycc,ycd, china[0][4], 13)\n",
        "  xk, yk = dataset(ykc,ykd, korea[0][4], 13)\n",
        "  xa, ya = dataset(yac,yad, Australia[0][4], 13)\n",
        "  x = xc+xk\n",
        "  y = yc+yk\n",
        "  temp = list(zip(x, y))\n",
        "  random.shuffle(temp)\n",
        "  x, y = zip(*temp)\n",
        "  xtrain = x[:-18]\n",
        "  ytrain = y[:-18]\n",
        "  xtest = x[-18:]\n",
        "  ytest = y[-18:]\n",
        "  assert xtrain+xtest==x and ytrain+ytest==y\n",
        "  return xtrain, xtest, ytrain, ytest\n",
        "\n",
        "xtrain, xtest, ytrain, ytest = data()\n",
        "\n"
      ],
      "execution_count": null,
      "outputs": []
    },
    {
      "cell_type": "code",
      "metadata": {
        "id": "Cd0SRUHXZD-V"
      },
      "source": [
        "from tensorflow import keras"
      ],
      "execution_count": null,
      "outputs": []
    },
    {
      "cell_type": "code",
      "metadata": {
        "id": "OIXhmHh8Z4gD"
      },
      "source": [
        "model = keras.Sequential()\n",
        "model.add(keras.layers.Dense(units=27, input_shape=(27,), activation=\"relu\"))\n",
        "model.add(keras.layers.Dense(units=64, activation=\"relu\"))\n",
        "model.add(keras.layers.Dropout(0.1))\n",
        "model.add(keras.layers.Dense(units=128, activation=\"relu\"))\n",
        "model.add(keras.layers.Dropout(0.1))\n",
        "model.add(keras.layers.Dense(units=128, activation=\"relu\"))\n",
        "model.add(keras.layers.Dropout(0.1))\n",
        "model.add(keras.layers.Dense(units=64, activation=\"relu\"))\n",
        "model.add(keras.layers.Dropout(0.1))\n",
        "model.add(keras.layers.Dense(units=2, activation=\"relu\"))\n",
        "model.compile(optimizer=keras.optimizers.SGD(learning_rate=0.1), loss=\"mean_squared_error\")\n"
      ],
      "execution_count": null,
      "outputs": []
    },
    {
      "cell_type": "code",
      "metadata": {
        "id": "bb1POOkHb1ya"
      },
      "source": [
        "model.fit(\n",
        "    x = xtrain,\n",
        "    y = ytrain,\n",
        "    batch_size = 5,\n",
        "    epochs=1000\n",
        "\n",
        ")"
      ],
      "execution_count": null,
      "outputs": []
    },
    {
      "cell_type": "code",
      "metadata": {
        "id": "1IU_t6TFemCA"
      },
      "source": [
        "def visualize(model, infec, kill, name, reali, realkill, population, offset):\n",
        "  for con in range(len(name)):\n",
        "    infected = infec[con].copy()\n",
        "    dead = kill[con].copy()\n",
        "    temp = []\n",
        "    for i in range(len(infected)):\n",
        "      temp.append(infected[i])\n",
        "      temp.append(dead[i])\n",
        "\n",
        "    temp.append(population[con]/200000000)\n",
        "    for _ in range(offset[con]):\n",
        "      infected.insert(0,0)\n",
        "      dead.insert(0,0)\n",
        "    for i in range(100):\n",
        "      p = model.predict(np.array([temp]))\n",
        "      temp.pop(1)\n",
        "      temp.pop(0)\n",
        "\n",
        "      popu = temp.pop(-1)\n",
        "\n",
        "      temp.append(p[0][0])\n",
        "      temp.append(p[0][1])\n",
        "\n",
        "      temp.append(popu)\n",
        "\n",
        "\n",
        "      infected.append(p[0][0])\n",
        "      dead.append(p[0][1])\n",
        "\n",
        "    print(name[con])\n",
        "    print(\"infected\")\n",
        "    plt.plot(infected, \"r-\")\n",
        "    plt.plot(reali[con], \"b--\")\n",
        "    plt.plot(infected[offset[con]:13+offset[con]], \"k-\")\n",
        "\n",
        "    plt.show()\n",
        "\n",
        "\n",
        "    print(name[con])\n",
        "    print(\"dead\")\n",
        "    plt.plot(dead, \"r-\")\n",
        "    plt.plot(realkill[con], \"b--\")\n",
        "    plt.plot(dead[offset[con]:13+offset[con]], \"k-\")\n",
        "\n",
        "    plt.show()"
      ],
      "execution_count": null,
      "outputs": []
    },
    {
      "cell_type": "code",
      "metadata": {
        "id": "1ZhUq_6Aj7uI"
      },
      "source": [
        "visualize(model, [ycc[:13], ykc[:13], yac[:13]],\n",
        "          [ycd[:13], ykd[:13], yad[:13]],\n",
        "          [\"China\",\"South Korea\",\"Australia\"],\n",
        "          [ycc, ykc, yac],\n",
        "          [ycd,ykd, yad],\n",
        "          [int(china[0][4]),int(korea[0][4]),int(Australia[0][4])],\n",
        "          [0, 0, 0])"
      ],
      "execution_count": null,
      "outputs": []
    }
  ]
}